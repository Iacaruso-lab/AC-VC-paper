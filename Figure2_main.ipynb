{
 "cells": [
  {
   "cell_type": "code",
   "execution_count": 1,
   "metadata": {},
   "outputs": [],
   "source": [
    "import pandas as pd\n",
    "from matplotlib import pyplot as plt\n",
    "import warnings\n",
    "import AC_VC_scripts.figure_formatting as ff\n",
    "warnings.filterwarnings('ignore')\n",
    "import AC_VC_scripts.loading_functions as lf\n",
    "import AC_VC_scripts.MAPseq_data_processing as mdp\n",
    "import AC_VC_scripts.fig2_plotting as pltt\n",
    "from AC_VC_scripts import MAPseq_flatmap_functions as mff\n",
    "%matplotlib inline"
   ]
  },
  {
   "cell_type": "markdown",
   "metadata": {},
   "source": [
    "Load filepaths and perform area assignment"
   ]
  },
  {
   "cell_type": "code",
   "execution_count": 2,
   "metadata": {},
   "outputs": [],
   "source": [
    "gen_parameters = lf.load_gen_params()\n",
    "mice = gen_parameters['MICE']\n",
    "saving_path = gen_parameters['fig_saving_path']\n",
    "proj_path = gen_parameters['proj_path']\n",
    "ff.set_font_params(gen_parameters)\n"
   ]
  },
  {
   "cell_type": "code",
   "execution_count": 3,
   "metadata": {},
   "outputs": [],
   "source": [
    "#load all mice neuron projection datasets\n",
    "combined_dict = mdp.samples_to_areas(mice = mice, proj_path=proj_path)\n",
    "all_mice_combined = pd.concat([\n",
    "    combined_dict[k]['homogenous_across_cubelet'][mdp.get_common_columns(mice=mice, combined_dict=combined_dict, cortex=True)]\n",
    "    for k in mice\n",
    "])"
   ]
  },
  {
   "cell_type": "code",
   "execution_count": null,
   "metadata": {},
   "outputs": [],
   "source": [
    "# set-up for flatmap requirements if required\n",
    "roi_dict, barcodes_dict, all_bcs_with_source, barcodes_no_source, sample_vol_and_regions = mff.make_dicts_of_mouse_3d_sample_rois(gen_parameters)\n",
    "proj_top, bf_left_boundaries, bf_right_boundaries = mff.set_up_for_flatmaps(proj_path=gen_parameters['path_to_additional_req'])"
   ]
  },
  {
   "cell_type": "markdown",
   "metadata": {},
   "source": [
    "Fig. 2a"
   ]
  },
  {
   "cell_type": "code",
   "execution_count": null,
   "metadata": {},
   "outputs": [],
   "source": [
    "#this cell takes a while to run\n",
    "normalised_bc_matrices, soma_coordinates_2d = mff.get_source_2d_and_normalised_matrices(roi_dict=roi_dict, gen_parameters=gen_parameters,  proj_top=proj_top, barcodes_no_source=barcodes_no_source)\n",
    "to_look = mff.make_mean_3d(roi_dict=roi_dict, normalised_bc_matrices=normalised_bc_matrices, gen_parameters=gen_parameters, proj_top=proj_top)\n",
    "fig, ax = plt.subplots(figsize=(3, 3))\n",
    "mff.plot_mean_flatmap(to_look=to_look, soma_coordinates_2d=soma_coordinates_2d, fig=fig, ax=ax, bf_left_boundaries=bf_left_boundaries, bf_right_boundaries=bf_right_boundaries)"
   ]
  },
  {
   "cell_type": "markdown",
   "metadata": {},
   "source": [
    "Fig. 2b-c"
   ]
  },
  {
   "cell_type": "code",
   "execution_count": null,
   "metadata": {},
   "outputs": [],
   "source": [
    "fig, axes = plt.subplots(1, 2, figsize=(3, 1))\n",
    "\n",
    "pltt.plot_all_distance_decay_from_A1(\n",
    "    fig,\n",
    "    axes,\n",
    "    combined_dict=combined_dict,\n",
    "    all_mice_combined=all_mice_combined,\n",
    "    mice=mice,\n",
    "    gen_parameters=gen_parameters,\n",
    ")"
   ]
  },
  {
   "cell_type": "markdown",
   "metadata": {},
   "source": [
    "Fig. 2d"
   ]
  },
  {
   "cell_type": "code",
   "execution_count": 6,
   "metadata": {},
   "outputs": [],
   "source": [
    "mouse_dict_AP_source, mouse_dict_A1_coords = mff.get_AP_coords(\n",
    "        gen_parameters=gen_parameters\n",
    "    )\n",
    "cortical_roi_dict, all_AP_dict, which_soma = mff.find_soma_AP_roi(\n",
    "    mice=gen_parameters[\"MICE\"],\n",
    "    proj_path=gen_parameters[\"proj_path\"],\n",
    "    mouse_dict_AP_source=mouse_dict_AP_source,\n",
    "    mouse_dict_A1_coords=mouse_dict_A1_coords,\n",
    "    roi_dict=roi_dict,\n",
    ")"
   ]
  },
  {
   "cell_type": "code",
   "execution_count": null,
   "metadata": {},
   "outputs": [],
   "source": [
    "#this cell takes a while to run\n",
    "fig, ax = plt.subplots(figsize=(3, 3))\n",
    "mff.plot_AP_soma_cubelet_flatmap(gen_parameters=gen_parameters, fig=fig, ax=ax, roi_dict=roi_dict, bf_left_boundaries=bf_left_boundaries, bf_right_boundaries=bf_right_boundaries, proj_top=proj_top)"
   ]
  },
  {
   "cell_type": "markdown",
   "metadata": {},
   "source": [
    "Fig. 2e"
   ]
  },
  {
   "cell_type": "code",
   "execution_count": null,
   "metadata": {},
   "outputs": [],
   "source": [
    "fig, ax = plt.subplots(figsize=(1, 1))\n",
    "AP_position_dict_list_combined, AP_soma_VC_sample = mdp.compute_mean_soma_AP_positions(gen_parameters=gen_parameters)\n",
    "pltt.plot_ap_vs_visap(ax, AP_soma_VC_sample, gen_parameters)"
   ]
  },
  {
   "cell_type": "markdown",
   "metadata": {},
   "source": [
    "Fig. 2f"
   ]
  },
  {
   "cell_type": "code",
   "execution_count": null,
   "metadata": {},
   "outputs": [],
   "source": [
    "where_AP_vis, area_AP_dict = mdp.get_area_mean_AP(gen_parameters=gen_parameters, combined_dict=combined_dict, AP_position_dict_list_combined=AP_position_dict_list_combined)\n",
    "fig, ax = plt.subplots(figsize=(1.4, 1.4))\n",
    "pltt.plot_area_AP_positions(\n",
    "    ax=ax,\n",
    "    fig=fig,\n",
    "    area_AP_dict=area_AP_dict,\n",
    "    where_AP_vis=where_AP_vis,\n",
    "    font_size=gen_parameters[\"font_size\"],\n",
    ")\n"
   ]
  },
  {
   "cell_type": "markdown",
   "metadata": {},
   "source": [
    "Fig. 2g"
   ]
  },
  {
   "cell_type": "code",
   "execution_count": null,
   "metadata": {},
   "outputs": [],
   "source": [
    "areas_to_plot = ['VISam', 'VISrl', 'VISpor', 'VISpl']\n",
    "fig, axes = plt.subplots(\n",
    "    nrows=4,          \n",
    "    ncols=1,        \n",
    "    figsize=(1.4, 2.8),\n",
    "    sharex=True       \n",
    ")\n",
    "pltt.plot_area_projection_probs(areas_to_plot=areas_to_plot, gen_parameters=gen_parameters, fig=fig, axes=axes, include_dist_as_covariate=True)\n"
   ]
  },
  {
   "cell_type": "markdown",
   "metadata": {},
   "source": [
    "Fig. 2h"
   ]
  },
  {
   "cell_type": "code",
   "execution_count": null,
   "metadata": {},
   "outputs": [],
   "source": [
    "fig, ax = plt.subplots(figsize=(0.7, 1.5))  \n",
    "pltt.plot_vc_projecting_cells(visual_areas=gen_parameters['HVA_cols'], all_mice=all_mice_combined, fig=fig, ax=ax, gen_parameters=gen_parameters)\n"
   ]
  },
  {
   "cell_type": "markdown",
   "metadata": {},
   "source": [
    "Fig. 2i-j"
   ]
  },
  {
   "cell_type": "code",
   "execution_count": null,
   "metadata": {},
   "outputs": [],
   "source": [
    "fig = plt.figure(figsize=(15.25/2.54, 4/2.54))\n",
    "pltt.plot_the_heatmap_and_bubble(gen_parameters=gen_parameters, all_mice_combined=all_mice_combined, fig=fig)\n"
   ]
  },
  {
   "cell_type": "markdown",
   "metadata": {},
   "source": [
    "Fig. 2k-m"
   ]
  },
  {
   "cell_type": "code",
   "execution_count": null,
   "metadata": {},
   "outputs": [],
   "source": [
    "cosine_df = mdp.cal_cosine_sim(gen_parameters=gen_parameters, all_mice_combined=all_mice_combined)\n",
    "to_plot = mdp.perform_motif_analysis(gen_parameters=gen_parameters, barcodes=all_mice_combined)\n",
    "\n",
    "fig = plt.figure(figsize=(18/2.54, 5.5/2.54))\n",
    "ax = fig.add_axes([0.1, 0.25, 0.2, 0.6])\n",
    "cbax = fig.add_axes([0.31, 0.4, 0.01, 0.35])\n",
    "pltt.add_cosine_sim_plot(ax=ax, cbax=cbax, cosine_df=cosine_df, gen_parameters=gen_parameters)\n",
    "ax = fig.add_axes([0.46, 0.25, 0.24, 0.6])\n",
    "pltt.add_motif_volcano_plot(gen_parameters=gen_parameters, to_plot=to_plot, ax=ax)\n",
    "ax = fig.add_axes([0.83, 0.35, 0.08, 0.5])\n",
    "pltt.plot_stream_effects(ax=ax, to_plot=to_plot, gen_parameters=gen_parameters)\n"
   ]
  }
 ],
 "metadata": {
  "kernelspec": {
   "display_name": "paperFigures",
   "language": "python",
   "name": "python3"
  },
  "language_info": {
   "codemirror_mode": {
    "name": "ipython",
    "version": 3
   },
   "file_extension": ".py",
   "mimetype": "text/x-python",
   "name": "python",
   "nbconvert_exporter": "python",
   "pygments_lexer": "ipython3",
   "version": "3.9.12"
  }
 },
 "nbformat": 4,
 "nbformat_minor": 2
}
