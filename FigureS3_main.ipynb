{
 "cells": [
  {
   "cell_type": "code",
   "execution_count": null,
   "metadata": {},
   "outputs": [],
   "source": [
    "from matplotlib import pyplot as plt\n",
    "import warnings\n",
    "import AC_VC_scripts.figure_formatting as ff\n",
    "warnings.filterwarnings('ignore')\n",
    "import AC_VC_scripts.loading_functions as lf\n",
    "import AC_VC_scripts.MAPseq_data_processing as mdp\n",
    "import AC_VC_scripts.fig2_plotting as pltt\n",
    "import pandas as pd\n",
    "%matplotlib inline"
   ]
  },
  {
   "cell_type": "markdown",
   "metadata": {},
   "source": [
    "Load parameters and dataframes"
   ]
  },
  {
   "cell_type": "code",
   "execution_count": 2,
   "metadata": {},
   "outputs": [],
   "source": [
    "gen_parameters = lf.load_gen_params()\n",
    "mice = gen_parameters['MICE']\n",
    "proj_path = gen_parameters['proj_path']\n",
    "ff.set_font_params(gen_parameters)\n"
   ]
  },
  {
   "cell_type": "code",
   "execution_count": null,
   "metadata": {},
   "outputs": [],
   "source": [
    "#load all mice neuron projection datasets\n",
    "combined_dict = mdp.samples_to_areas(mice = mice, proj_path=proj_path)\n",
    "all_mice_combined = pd.concat([\n",
    "    combined_dict[k]['homogenous_across_cubelet'][mdp.get_common_columns(mice=mice, combined_dict=combined_dict, cortex=True)]\n",
    "    for k in mice\n",
    "])"
   ]
  },
  {
   "cell_type": "markdown",
   "metadata": {},
   "source": [
    "Extended data fig. 3a"
   ]
  },
  {
   "cell_type": "code",
   "execution_count": null,
   "metadata": {},
   "outputs": [],
   "source": [
    "fig= plt.figure(figsize=(2.7, 2.25)) \n",
    "pltt.plot_corr_heatmap(gen_parameters=gen_parameters)"
   ]
  },
  {
   "cell_type": "markdown",
   "metadata": {},
   "source": [
    "Extended data fig. 3b-d"
   ]
  },
  {
   "cell_type": "code",
   "execution_count": null,
   "metadata": {},
   "outputs": [],
   "source": [
    "#NB. this takes a while (about an hour) since we have to perform curveball shuffling 100,000 x\n",
    "fig, axes = plt.subplots(3, 2,\n",
    "                            figsize=(3.8, 4.2),  \n",
    "                            constrained_layout=True)\n",
    "axes = axes.flatten()\n",
    "pltt.plot_all_sup_matrices(gen_parameters, all_mice_combined, axes, n_neurons=100000, n_areas=10)\n",
    "\n"
   ]
  },
  {
   "cell_type": "markdown",
   "metadata": {},
   "source": [
    "Extended data fig. 3e"
   ]
  },
  {
   "cell_type": "code",
   "execution_count": null,
   "metadata": {},
   "outputs": [],
   "source": [
    "fig, axs = plt.subplots(3, 1, figsize=(3.2, 6.5), constrained_layout=True)\n",
    "pltt.plot_supp_cond_prob_heatmaps(gen_parameters=gen_parameters, axs=axs, all_mice_combined=all_mice_combined)\n",
    "\n"
   ]
  }
 ],
 "metadata": {
  "kernelspec": {
   "display_name": "paperFigures",
   "language": "python",
   "name": "python3"
  },
  "language_info": {
   "codemirror_mode": {
    "name": "ipython",
    "version": 3
   },
   "file_extension": ".py",
   "mimetype": "text/x-python",
   "name": "python",
   "nbconvert_exporter": "python",
   "pygments_lexer": "ipython3",
   "version": "3.9.12"
  }
 },
 "nbformat": 4,
 "nbformat_minor": 2
}
