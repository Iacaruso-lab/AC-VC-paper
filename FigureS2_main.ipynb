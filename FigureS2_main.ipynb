{
 "cells": [
  {
   "cell_type": "code",
   "execution_count": null,
   "metadata": {},
   "outputs": [],
   "source": [
    "from matplotlib import pyplot as plt\n",
    "from AC_VC_scripts import figure_formatting as ff\n",
    "from AC_VC_scripts import loading_functions as lf\n",
    "from AC_VC_scripts import fig1_plotting as f1\n",
    "from AC_VC_scripts import MAPseq_flatmap_functions as mff\n",
    "import warnings\n",
    "warnings.filterwarnings('ignore')\n",
    "%matplotlib inline"
   ]
  },
  {
   "cell_type": "markdown",
   "metadata": {},
   "source": [
    "Load parameters and paths"
   ]
  },
  {
   "cell_type": "code",
   "execution_count": 2,
   "metadata": {},
   "outputs": [],
   "source": [
    "gen_parameters = lf.load_gen_params()\n",
    "proj_path = gen_parameters['proj_path']\n",
    "ff.set_font_params(gen_parameters)\n"
   ]
  },
  {
   "cell_type": "markdown",
   "metadata": {},
   "source": [
    "Extended Data Fig. 2a-b"
   ]
  },
  {
   "cell_type": "code",
   "execution_count": null,
   "metadata": {},
   "outputs": [],
   "source": [
    "roi_dict, barcodes_dict, all_bcs_with_source, barcodes_no_source, sample_vol_and_regions = mff.make_dicts_of_mouse_3d_sample_rois(gen_parameters)\n",
    "proj_top, bf_left_boundaries, bf_right_boundaries = mff.set_up_for_flatmaps(proj_path=gen_parameters['path_to_additional_req'])\n",
    "#nb. this takes a long time to run, since we generate the flatmap for each roi sequentially to avoid overlap in visualisation going from 3d to 2d!\n",
    "fig, axes = plt.subplots(2, 3, figsize=(7, 3.5))  \n",
    "fig.subplots_adjust(wspace=0.30)\n",
    "mff.plot_bulk_flatmaps_indiv(fig=fig, axes=axes, proj_top=proj_top, roi_dict=roi_dict, barcodes_dict=barcodes_dict, gen_parameters=gen_parameters, bf_left_boundaries=bf_left_boundaries, bf_right_boundaries=bf_right_boundaries)\n",
    "mff.plot_bulk_allen_anterograde(proj_top, fig, axes, bf_left_boundaries=bf_left_boundaries, bf_right_boundaries=bf_right_boundaries)\n",
    "plt.tight_layout()\n",
    "plt.show()"
   ]
  },
  {
   "cell_type": "markdown",
   "metadata": {},
   "source": [
    "Extended Data Fig. 2c"
   ]
  },
  {
   "cell_type": "code",
   "execution_count": null,
   "metadata": {},
   "outputs": [],
   "source": [
    "what_plot, ax = plt.subplots(figsize=(1.5, 1.25))\n",
    "f1.plot_Allen_corr(gen_parameters=gen_parameters, what_plot=what_plot, ax=ax)"
   ]
  },
  {
   "cell_type": "markdown",
   "metadata": {},
   "source": [
    "Extended Data Fig. 2d-f"
   ]
  },
  {
   "cell_type": "code",
   "execution_count": null,
   "metadata": {},
   "outputs": [],
   "source": [
    "fig, axes = plt.subplots(2, 2, figsize=(4, 3))\n",
    "f1.plot_dif_approaches_correlations(gen_parameters=gen_parameters, fig=fig, axes=axes)\n"
   ]
  }
 ],
 "metadata": {
  "kernelspec": {
   "display_name": "paperFigures",
   "language": "python",
   "name": "python3"
  },
  "language_info": {
   "codemirror_mode": {
    "name": "ipython",
    "version": 3
   },
   "file_extension": ".py",
   "mimetype": "text/x-python",
   "name": "python",
   "nbconvert_exporter": "python",
   "pygments_lexer": "ipython3",
   "version": "3.9.12"
  }
 },
 "nbformat": 4,
 "nbformat_minor": 2
}
