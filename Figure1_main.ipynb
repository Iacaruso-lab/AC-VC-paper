{
 "cells": [
  {
   "cell_type": "code",
   "execution_count": 1,
   "metadata": {},
   "outputs": [],
   "source": [
    "from AC_VC_scripts import figure_formatting as ff\n",
    "import warnings\n",
    "warnings.filterwarnings('ignore')\n",
    "from matplotlib import pyplot as plt\n",
    "from AC_VC_scripts import loading_functions as lf\n",
    "from AC_VC_scripts import MAPseq_flatmap_functions as mff\n",
    "from AC_VC_scripts import fig1_plotting as f1\n",
    "%matplotlib inline"
   ]
  },
  {
   "cell_type": "markdown",
   "metadata": {},
   "source": [
    "Load general parameters"
   ]
  },
  {
   "cell_type": "code",
   "execution_count": 2,
   "metadata": {},
   "outputs": [],
   "source": [
    "gen_parameters = lf.load_gen_params()\n",
    "proj_path = gen_parameters['proj_path']\n",
    "ff.set_font_params(gen_parameters)\n"
   ]
  },
  {
   "cell_type": "markdown",
   "metadata": {},
   "source": [
    "Fig. 1c"
   ]
  },
  {
   "cell_type": "code",
   "execution_count": null,
   "metadata": {},
   "outputs": [],
   "source": [
    "fig, ax = plt.subplots(figsize=(1.25, 1))\n",
    "f1.plot_MAPseq_cubelet_Allen_corr(gen_parameters, what_plot=fig, ax=ax)"
   ]
  },
  {
   "cell_type": "markdown",
   "metadata": {},
   "source": [
    "Fig. 1d"
   ]
  },
  {
   "cell_type": "code",
   "execution_count": null,
   "metadata": {},
   "outputs": [],
   "source": [
    "cluster = f1.plot_broad_area_clustermap(proj_path=proj_path, gen_parameters=gen_parameters)"
   ]
  },
  {
   "cell_type": "markdown",
   "metadata": {},
   "source": [
    "Fig. 1e"
   ]
  },
  {
   "cell_type": "code",
   "execution_count": null,
   "metadata": {},
   "outputs": [],
   "source": [
    "fig, ax = plt.subplots(figsize=(0.55, 1))\n",
    "f1.plot_upper_lower_proj_types(gen_parameters=gen_parameters, proj_path=proj_path, fig=fig, ax=ax)"
   ]
  },
  {
   "cell_type": "markdown",
   "metadata": {},
   "source": [
    "Fig. 1f"
   ]
  },
  {
   "cell_type": "code",
   "execution_count": null,
   "metadata": {},
   "outputs": [],
   "source": [
    "fig, ax = plt.subplots(figsize=(1.25, 1))\n",
    "f1.plot_allen_area_vs_MAPseq_area(gen_parameters, fig=fig, ax=ax)"
   ]
  },
  {
   "cell_type": "markdown",
   "metadata": {},
   "source": [
    "Fig. 1g"
   ]
  },
  {
   "cell_type": "code",
   "execution_count": null,
   "metadata": {},
   "outputs": [],
   "source": [
    "#NB, this cell takes a while to run\n",
    "roi_dict, barcodes_dict, all_bcs_with_source, barcodes_no_source, sample_vol_and_regions = mff.make_dicts_of_mouse_3d_sample_rois(gen_parameters)\n",
    "proj_top, bf_left_boundaries, bf_right_boundaries = mff.set_up_for_flatmaps(proj_path=gen_parameters['path_to_additional_req'])\n",
    "fig = plt.figure(figsize=(7.8, 2), facecolor=\"white\",dpi=400)\n",
    "mff.plot_indiv_projections(sample_vol_and_regions=sample_vol_and_regions, roi_dict=roi_dict, barcodes_dict=barcodes_dict, gen_parameters=gen_parameters, fig=fig, proj_top=proj_top, bf_left_boundaries=bf_left_boundaries, bf_right_boundaries=bf_right_boundaries) "
   ]
  },
  {
   "cell_type": "markdown",
   "metadata": {},
   "source": [
    "Fig. 1h"
   ]
  },
  {
   "cell_type": "code",
   "execution_count": null,
   "metadata": {},
   "outputs": [],
   "source": [
    "fig, ax = plt.subplots(figsize=(0.7, 1.25))\n",
    "f1.plot_within_out_AUD_proj_frequencies(gen_parameters=gen_parameters, fig=fig, ax=ax)"
   ]
  },
  {
   "cell_type": "markdown",
   "metadata": {},
   "source": [
    "Fig. 1i"
   ]
  },
  {
   "cell_type": "code",
   "execution_count": null,
   "metadata": {},
   "outputs": [],
   "source": [
    "fig, ax = plt.subplots(figsize=(3.8, 0.9))\n",
    "f1.plot_overall_proj_frequencies_areas(gen_parameters=gen_parameters, fig=fig, ax=ax)"
   ]
  }
 ],
 "metadata": {
  "kernelspec": {
   "display_name": "paperFigures",
   "language": "python",
   "name": "python3"
  },
  "language_info": {
   "codemirror_mode": {
    "name": "ipython",
    "version": 3
   },
   "file_extension": ".py",
   "mimetype": "text/x-python",
   "name": "python",
   "nbconvert_exporter": "python",
   "pygments_lexer": "ipython3",
   "version": "3.9.12"
  }
 },
 "nbformat": 4,
 "nbformat_minor": 2
}
